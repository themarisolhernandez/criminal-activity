{
 "cells": [
  {
   "cell_type": "markdown",
   "metadata": {},
   "source": [
    "<img src=\"https://encrypted-tbn0.gstatic.com/images?q=tbn%3AANd9GcS34cr8XRwTzJxEwEn1VoSK_CxSeu4xJnqWPCIpIUYQMNTuSQU0ZeL_Q0vjRCs&usqp=CAc\" width=\"100\" height=\"500\" style=\"vertical-align:top\">\n",
    "\n",
    "# <center><font size=6> The Direct Line</font> <br /><font size=5> To Reducing Criminal Activity</font></center>\n",
    "<center><font size=3><i>By Marisol Hernandez</i></font></center>  \n",
    "<center><font size=3><i>10/11/2020</i></font></center>\n",
    "\n",
    "---\n",
    "\n",
    "## Table of Contents\n",
    "\n",
    "[I. Objective](#objective)  \n",
    "[II. Data Exploration](#data-exploration)  \n",
    "[III. One Column Selection](#one-column-selection)  \n",
    "[IV. Sort](#sort)  \n",
    "[V. Series](#series)  \n",
    "[VI. Plot](#plot)  \n",
    "[VII. Summary](#summary)  \n",
    "[VIII. Recommendations](#recommendations)"
   ]
  },
  {
   "cell_type": "markdown",
   "metadata": {},
   "source": [
    "## Objective  <a id='objective'></a>\n",
    "---\n",
    "Crime rates can vary greatly across different times and locations. In some populations and in some periods, the crime rate is much greater than in other populations and at other time periods. It is essentially important to account for these trends so that law enforcement agencies may be in a position to enact resource allocations that may reduce the volume of crimes committed in any given location.\n",
    "\n",
    "The objective of my investigation is to identify the cities that exhibit the highest crime and homicide (per capita) growth from 2012 to 2015 within the Western Region of the United States. In doing so, I conducted my research so that it answered the following questions:\n",
    "\n",
    "**Questions of Investigation:**  \n",
    "**1. What are the top 10 cities with the highest crimes per capita from 2012 and 2015? How do they compare?**  \n",
    "**2. What are the top 5 cities that exhibited the highest crimes per capita growth?**  \n",
    "**3. What are the top 5 cities that exhibited the highest homicides per capita growth?** \n",
    "\n",
    "I hope that the executive officers of these cities can use these findings to allocate their resources so they can respond efficiently. Additionally, these findings may help them identify the need for targeted and innovative solutions that would help restore the safety and security of their cities.\n",
    "\n",
    "*Note: The Western Region is composed of the following states: Alaska, Arizona, California, Colorado, Hawaii, Idaho, Montana, Nevada, New Mexico, Oregon, Utah, Washington, Wyoming*."
   ]
  },
  {
   "cell_type": "markdown",
   "metadata": {},
   "source": [
    "## Data Exploration  <a id='data-exploration'></a>\n",
    "---\n",
    "\n"
   ]
  },
  {
   "cell_type": "markdown",
   "metadata": {},
   "source": [
    "### Cocktail\n",
    "Before beginning my exploratory data analysis, I imported the required libraries. Additionally, I set some pandas options, as well as the back end of matplotlib."
   ]
  },
  {
   "cell_type": "code",
   "execution_count": 2,
   "metadata": {},
   "outputs": [],
   "source": [
    "# Preparation for pandas and NumPy\n",
    "import numpy as np\n",
    "import pandas as pd\n",
    "from pandas import DataFrame, Series\n",
    "import matplotlib.pyplot as plt\n",
    "from matplotlib.pyplot import figure\n",
    "\n",
    "# Set some pandas options\n",
    "pd.set_option('display.notebook_repr_html', False)\n",
    "pd.set_option('display.max_columns', 30)\n",
    "pd.set_option('display.max_rows', 30)\n",
    "\n",
    "# Preparation for matplotlib\n",
    "%matplotlib inline "
   ]
  },
  {
   "cell_type": "markdown",
   "metadata": {},
   "source": [
    "### Read in the Data\n",
    "The next step to my EDA was to read in the CSV file, using `pd.read_csv()`, and print the first five rows, using `DataFrame.head(n=5)`. This gives us a glimpse of the dataframe we are working with."
   ]
  },
  {
   "cell_type": "code",
   "execution_count": 5,
   "metadata": {},
   "outputs": [
    {
     "data": {
      "text/plain": [
       "   report_year agency_code agency_jurisdiction  population  violent_crimes  \\\n",
       "0         1975     NM00101     Albuquerque, NM    286238.0          2383.0   \n",
       "1         1975     TX22001       Arlington, TX    112478.0           278.0   \n",
       "2         1975     GAAPD00         Atlanta, GA    490584.0          8033.0   \n",
       "3         1975     CO00101          Aurora, CO    116656.0           611.0   \n",
       "4         1975     TX22701          Austin, TX    300400.0          1215.0   \n",
       "\n",
       "   homicides  rapes  assaults  robberies  months_reported  crimes_percapita  \\\n",
       "0       30.0  181.0    1353.0      819.0             12.0            832.52   \n",
       "1        5.0   28.0     132.0      113.0             12.0            247.16   \n",
       "2      185.0  443.0    3518.0     3887.0             12.0           1637.44   \n",
       "3        7.0   44.0     389.0      171.0             12.0            523.76   \n",
       "4       33.0  190.0     463.0      529.0             12.0            404.46   \n",
       "\n",
       "   homicides_percapita  rapes_percapita  assaults_percapita  \\\n",
       "0                10.48            63.23              472.68   \n",
       "1                 4.45            24.89              117.36   \n",
       "2                37.71            90.30              717.10   \n",
       "3                 6.00            37.72              333.46   \n",
       "4                10.99            63.25              154.13   \n",
       "\n",
       "   robberies_percapita  \n",
       "0               286.13  \n",
       "1               100.46  \n",
       "2               792.32  \n",
       "3               146.58  \n",
       "4               176.10  "
      ]
     },
     "execution_count": 5,
     "metadata": {},
     "output_type": "execute_result"
    }
   ],
   "source": [
    "# Read csv file and print first 5 rows\n",
    "report = pd.read_csv(\"report.csv\")\n",
    "report.head(5)"
   ]
  },
  {
   "cell_type": "markdown",
   "metadata": {},
   "source": [
    "While `DataFrame.head(n=5)` delivers the first 5 rows, I was still interested in the dimensions of the dataframe. To retrieve the dimensions, I utilized the `DataFrame.shape` method. I now know that I am working with a **2,829 by 15** dataframe."
   ]
  },
  {
   "cell_type": "code",
   "execution_count": 3,
   "metadata": {
    "scrolled": true
   },
   "outputs": [
    {
     "name": "stdout",
     "output_type": "stream",
     "text": [
      "There are 2829 rows and 15 columns in this table.\n"
     ]
    }
   ],
   "source": [
    "# Retrieve the dimensions\n",
    "print(\"There are \" + str(report.shape[0]) + \" rows and \" + str(report.shape[1]) + \" columns in this table.\")"
   ]
  },
  {
   "cell_type": "markdown",
   "metadata": {},
   "source": [
    "Additionally, I used the `DataFrame.columns` method to retrieve the column names. Here, I can see all the attributes I am working with. For the purpose of my investigation, I will subset my dataframe, i.e. remove some columns, but I will conduct that in a later step."
   ]
  },
  {
   "cell_type": "code",
   "execution_count": 6,
   "metadata": {},
   "outputs": [
    {
     "data": {
      "text/plain": [
       "Index(['report_year', 'agency_code', 'agency_jurisdiction', 'population',\n",
       "       'violent_crimes', 'homicides', 'rapes', 'assaults', 'robberies',\n",
       "       'months_reported', 'crimes_percapita', 'homicides_percapita',\n",
       "       'rapes_percapita', 'assaults_percapita', 'robberies_percapita'],\n",
       "      dtype='object')"
      ]
     },
     "execution_count": 6,
     "metadata": {},
     "output_type": "execute_result"
    }
   ],
   "source": [
    "# Column names\n",
    "report.columns"
   ]
  },
  {
   "cell_type": "markdown",
   "metadata": {},
   "source": [
    "Because most of my variables are numeric, I was interested in generating a statistical summary of those variables. Using the `DataFrame.describe()` method, I can see summary statistics of my dataframe. Immediately, I notice that the data collected dates from 1975 to 2015. For the purpose of my investigation, I will subset my data frame with data from my targeted time frame, but I will do so in the following subsection."
   ]
  },
  {
   "cell_type": "code",
   "execution_count": 7,
   "metadata": {
    "scrolled": false
   },
   "outputs": [
    {
     "data": {
      "text/plain": [
       "       report_year    population  violent_crimes     homicides        rapes  \\\n",
       "count  2829.000000  2.760000e+03    2.794000e+03   2795.000000  2754.000000   \n",
       "mean   1995.000000  7.956981e+05    2.963255e+04    398.385331   416.278867   \n",
       "std      11.834251  1.012451e+06    1.728630e+05   2281.276402   479.811934   \n",
       "min    1975.000000  1.007630e+05    1.540000e+02      1.000000    15.000000   \n",
       "25%    1985.000000  3.779310e+05    3.014750e+03     32.000000   176.250000   \n",
       "50%    1995.000000  5.366145e+05    5.135500e+03     64.000000   291.000000   \n",
       "75%    2005.000000  8.168558e+05    9.058500e+03    131.000000   465.000000   \n",
       "max    2015.000000  8.550861e+06    1.932274e+06  24703.000000  3899.000000   \n",
       "\n",
       "           assaults      robberies  months_reported  crimes_percapita  \\\n",
       "count   2753.000000    2754.000000      2692.000000       2794.000000   \n",
       "mean    4405.146023    4000.245098        11.868871       1093.049810   \n",
       "std     6977.293769    8653.902965         1.118194        676.884678   \n",
       "min       15.000000      83.000000         0.000000         16.490000   \n",
       "25%     1467.000000    1032.000000        12.000000        625.082500   \n",
       "50%     2597.000000    1940.000000        12.000000        949.680000   \n",
       "75%     4556.000000    3609.750000        12.000000       1409.507500   \n",
       "max    71030.000000  107475.000000        12.000000       4352.830000   \n",
       "\n",
       "       homicides_percapita  rapes_percapita  assaults_percapita  \\\n",
       "count          2795.000000      2754.000000         2753.000000   \n",
       "mean             15.372812        59.305167          566.595434   \n",
       "std              12.350640        31.971570          369.436996   \n",
       "min               0.210000         1.640000            1.610000   \n",
       "25%               6.955000        35.775000          319.090000   \n",
       "50%              11.980000        55.900000          487.480000   \n",
       "75%              20.230000        77.797500          728.240000   \n",
       "max              94.740000       199.300000         2368.220000   \n",
       "\n",
       "       robberies_percapita  \n",
       "count          2754.000000  \n",
       "mean            459.968112  \n",
       "std             340.903534  \n",
       "min              11.460000  \n",
       "25%             210.242500  \n",
       "50%             374.400000  \n",
       "75%             612.005000  \n",
       "max            2337.520000  "
      ]
     },
     "execution_count": 7,
     "metadata": {},
     "output_type": "execute_result"
    }
   ],
   "source": [
    "report.describe()"
   ]
  },
  {
   "cell_type": "markdown",
   "metadata": {},
   "source": [
    "### Subset the Data\n",
    "Because I am only interested in analyzing the crimes and homicides (per capita) of cities within the Western Region from 2012 to 2015, I had to subset the dataframe accordingly. The first line of code subsets the dataframe so that it only contains data for the states that make up the Western Region. The second line of code subsets the dataframe again so that it only contains data pertaining to the crimes and homicides (per capita) committed between 2012 and 2015. The last line of code prints the first 5 lines of our subsetted dataframe, `subset`."
   ]
  },
  {
   "cell_type": "code",
   "execution_count": 11,
   "metadata": {
    "scrolled": false
   },
   "outputs": [
    {
     "data": {
      "text/plain": [
       "      report_year agency_jurisdiction  crimes_percapita  homicides_percapita\n",
       "2553         2012     Albuquerque, NM            749.71                 7.40\n",
       "2556         2012          Aurora, CO            415.49                 5.05\n",
       "2568         2012          Denver, CO            618.09                 6.20\n",
       "2573         2012          Fresno, CA            543.07                10.08\n",
       "2574         2012        Honolulu, HI            239.37                 1.13"
      ]
     },
     "execution_count": 11,
     "metadata": {},
     "output_type": "execute_result"
    }
   ],
   "source": [
    "subset = report[report[\"agency_jurisdiction\"].str.contains(\"AL|AZ|CA|CO|HI|ID|MT|NV|NM|OR|UT|WA|WY\")]\n",
    "subset = subset.loc[(subset.report_year >= 2012) & (subset.report_year <= 2015),[\"report_year\",\"agency_jurisdiction\", \n",
    "        \"crimes_percapita\", \"homicides_percapita\"]]\n",
    "subset.head(5)"
   ]
  },
  {
   "cell_type": "markdown",
   "metadata": {},
   "source": [
    "I decide to look at crimes and homicides (per capita) growth of cities within the Western Region from 2012 to 2015. Using a `for` loop, I subsetted the `crime_report` dataframe based on the `report_year` specified within the loop. The second and third command within the loop adds `i`, as a string, to the `crimes_percapita` and `homicides_percapita` column names to specify the year the data was collected. \n",
    "\n",
    "The third command within the loop drops the `report_year` column, as it no longer has much relevance to my investigation. Lastly, the forth command adds the subset to a list called `dataframes` that will be used to merge all four subsets in the next step."
   ]
  },
  {
   "cell_type": "code",
   "execution_count": 12,
   "metadata": {
    "scrolled": true
   },
   "outputs": [
    {
     "name": "stderr",
     "output_type": "stream",
     "text": [
      "<ipython-input-12-ebffa336ceb6>:5: SettingWithCopyWarning: \n",
      "A value is trying to be set on a copy of a slice from a DataFrame\n",
      "\n",
      "See the caveats in the documentation: https://pandas.pydata.org/pandas-docs/stable/user_guide/indexing.html#returning-a-view-versus-a-copy\n",
      "  df.rename(columns={\"crimes_percapita\":\"crimes_percapita\" + str(i)}, inplace = True)\n",
      "<ipython-input-12-ebffa336ceb6>:6: SettingWithCopyWarning: \n",
      "A value is trying to be set on a copy of a slice from a DataFrame\n",
      "\n",
      "See the caveats in the documentation: https://pandas.pydata.org/pandas-docs/stable/user_guide/indexing.html#returning-a-view-versus-a-copy\n",
      "  df.rename(columns={\"homicides_percapita\":\"homicides_percapita\" + str(i)}, inplace = True)\n",
      "<ipython-input-12-ebffa336ceb6>:7: FutureWarning: In a future version of pandas all arguments of DataFrame.drop except for the argument 'labels' will be keyword-only.\n",
      "  df = df.drop(\"report_year\",1)\n",
      "<ipython-input-12-ebffa336ceb6>:5: SettingWithCopyWarning: \n",
      "A value is trying to be set on a copy of a slice from a DataFrame\n",
      "\n",
      "See the caveats in the documentation: https://pandas.pydata.org/pandas-docs/stable/user_guide/indexing.html#returning-a-view-versus-a-copy\n",
      "  df.rename(columns={\"crimes_percapita\":\"crimes_percapita\" + str(i)}, inplace = True)\n",
      "<ipython-input-12-ebffa336ceb6>:6: SettingWithCopyWarning: \n",
      "A value is trying to be set on a copy of a slice from a DataFrame\n",
      "\n",
      "See the caveats in the documentation: https://pandas.pydata.org/pandas-docs/stable/user_guide/indexing.html#returning-a-view-versus-a-copy\n",
      "  df.rename(columns={\"homicides_percapita\":\"homicides_percapita\" + str(i)}, inplace = True)\n",
      "<ipython-input-12-ebffa336ceb6>:7: FutureWarning: In a future version of pandas all arguments of DataFrame.drop except for the argument 'labels' will be keyword-only.\n",
      "  df = df.drop(\"report_year\",1)\n",
      "<ipython-input-12-ebffa336ceb6>:5: SettingWithCopyWarning: \n",
      "A value is trying to be set on a copy of a slice from a DataFrame\n",
      "\n",
      "See the caveats in the documentation: https://pandas.pydata.org/pandas-docs/stable/user_guide/indexing.html#returning-a-view-versus-a-copy\n",
      "  df.rename(columns={\"crimes_percapita\":\"crimes_percapita\" + str(i)}, inplace = True)\n",
      "<ipython-input-12-ebffa336ceb6>:6: SettingWithCopyWarning: \n",
      "A value is trying to be set on a copy of a slice from a DataFrame\n",
      "\n",
      "See the caveats in the documentation: https://pandas.pydata.org/pandas-docs/stable/user_guide/indexing.html#returning-a-view-versus-a-copy\n",
      "  df.rename(columns={\"homicides_percapita\":\"homicides_percapita\" + str(i)}, inplace = True)\n",
      "<ipython-input-12-ebffa336ceb6>:7: FutureWarning: In a future version of pandas all arguments of DataFrame.drop except for the argument 'labels' will be keyword-only.\n",
      "  df = df.drop(\"report_year\",1)\n",
      "<ipython-input-12-ebffa336ceb6>:5: SettingWithCopyWarning: \n",
      "A value is trying to be set on a copy of a slice from a DataFrame\n",
      "\n",
      "See the caveats in the documentation: https://pandas.pydata.org/pandas-docs/stable/user_guide/indexing.html#returning-a-view-versus-a-copy\n",
      "  df.rename(columns={\"crimes_percapita\":\"crimes_percapita\" + str(i)}, inplace = True)\n",
      "<ipython-input-12-ebffa336ceb6>:6: SettingWithCopyWarning: \n",
      "A value is trying to be set on a copy of a slice from a DataFrame\n",
      "\n",
      "See the caveats in the documentation: https://pandas.pydata.org/pandas-docs/stable/user_guide/indexing.html#returning-a-view-versus-a-copy\n",
      "  df.rename(columns={\"homicides_percapita\":\"homicides_percapita\" + str(i)}, inplace = True)\n",
      "<ipython-input-12-ebffa336ceb6>:7: FutureWarning: In a future version of pandas all arguments of DataFrame.drop except for the argument 'labels' will be keyword-only.\n",
      "  df = df.drop(\"report_year\",1)\n"
     ]
    }
   ],
   "source": [
    "dataframes = list()\n",
    "\n",
    "for i in range(2012,2016):\n",
    "    df = subset.loc[subset.report_year == i,:]\n",
    "    df.rename(columns={\"crimes_percapita\":\"crimes_percapita\" + str(i)}, inplace = True)\n",
    "    df.rename(columns={\"homicides_percapita\":\"homicides_percapita\" + str(i)}, inplace = True)\n",
    "    df = df.drop(\"report_year\",1)\n",
    "    \n",
    "    dataframes.append(df)"
   ]
  },
  {
   "cell_type": "markdown",
   "metadata": {},
   "source": [
    "I assigned the first subset within `dataframes` to the variable `west_report`. Using another `for` loop, I merged the remaining subsets to the first subset by `agency_jurisdiction`. This creates a general dataframe that contains the crimes and homicides (per capita) for every Western city between the years 2012 and 2015. Notice that I reset the index to `agency_jurisdiction` for organizational purposes. Using `DataFrame.head(n=5)`, we can see that `west_report` is just as we expected."
   ]
  },
  {
   "cell_type": "code",
   "execution_count": 13,
   "metadata": {},
   "outputs": [
    {
     "data": {
      "text/plain": [
       "                     crimes_percapita2012  homicides_percapita2012  \\\n",
       "agency_jurisdiction                                                  \n",
       "Albuquerque, NM                    749.71                     7.40   \n",
       "Aurora, CO                         415.49                     5.05   \n",
       "Denver, CO                         618.09                     6.20   \n",
       "Fresno, CA                         543.07                    10.08   \n",
       "Honolulu, HI                       239.37                     1.13   \n",
       "\n",
       "                     crimes_percapita2013  homicides_percapita2013  \\\n",
       "agency_jurisdiction                                                  \n",
       "Albuquerque, NM                    774.86                     6.63   \n",
       "Aurora, CO                         416.03                     5.82   \n",
       "Denver, CO                         630.68                     6.32   \n",
       "Fresno, CA                         501.50                     7.86   \n",
       "Honolulu, HI                       231.14                     1.83   \n",
       "\n",
       "                     crimes_percapita2014  homicides_percapita2014  \\\n",
       "agency_jurisdiction                                                  \n",
       "Albuquerque, NM                    882.85                     5.37   \n",
       "Aurora, CO                         407.47                     2.56   \n",
       "Denver, CO                         601.49                     4.66   \n",
       "Fresno, CA                         464.16                     9.16   \n",
       "Honolulu, HI                       228.66                     1.91   \n",
       "\n",
       "                     crimes_percapita2015  homicides_percapita2015  \n",
       "agency_jurisdiction                                                 \n",
       "Albuquerque, NM                    965.84                     7.68  \n",
       "Aurora, CO                         460.81                     6.66  \n",
       "Denver, CO                         673.93                     7.77  \n",
       "Fresno, CA                         551.23                     7.49  \n",
       "Honolulu, HI                       243.87                     1.50  "
      ]
     },
     "execution_count": 13,
     "metadata": {},
     "output_type": "execute_result"
    }
   ],
   "source": [
    "west_report = dataframes[0]\n",
    "\n",
    "for i in range(1,(len(dataframes))):\n",
    "    west_report = pd.merge(west_report, dataframes[i], how = \"inner\", on = \"agency_jurisdiction\")\n",
    "    \n",
    "west_report = west_report.set_index(['agency_jurisdiction'])\n",
    "west_report.head(5)"
   ]
  },
  {
   "cell_type": "markdown",
   "metadata": {},
   "source": [
    "Just out of curiosity, I wanted to see how much data I was working with now. Following the same steps to retrieve the dimensions, I can now see that I am looking at the crimes (per capita) records of **20 cities**."
   ]
  },
  {
   "cell_type": "code",
   "execution_count": 15,
   "metadata": {},
   "outputs": [
    {
     "name": "stdout",
     "output_type": "stream",
     "text": [
      "There are 20 rows and 8 columns in this table.\n"
     ]
    }
   ],
   "source": [
    "# Retrieve the dimensions\n",
    "print(\"There are \" + str(west_report.shape[0]) + \" rows and \" + str(west_report.shape[1]) + \" columns in this table.\")"
   ]
  },
  {
   "cell_type": "markdown",
   "metadata": {},
   "source": [
    "### Data Cleaning"
   ]
  },
  {
   "cell_type": "markdown",
   "metadata": {},
   "source": [
    "Before moving on to conduct further analysis, it is essential that I check my `west_report` dataframe for any missing or null values. The following code retrieves the sum of missing values for each column. Here I can see that `crimes_percapita2015` and `homicides_percapita2015` contains one missing value."
   ]
  },
  {
   "cell_type": "code",
   "execution_count": 16,
   "metadata": {},
   "outputs": [
    {
     "data": {
      "text/plain": [
       "crimes_percapita2012       0\n",
       "homicides_percapita2012    0\n",
       "crimes_percapita2013       0\n",
       "homicides_percapita2013    0\n",
       "crimes_percapita2014       0\n",
       "homicides_percapita2014    0\n",
       "crimes_percapita2015       1\n",
       "homicides_percapita2015    1\n",
       "dtype: int64"
      ]
     },
     "execution_count": 16,
     "metadata": {},
     "output_type": "execute_result"
    }
   ],
   "source": [
    "west_report.iloc[:,:].isnull().sum()"
   ]
  },
  {
   "cell_type": "markdown",
   "metadata": {},
   "source": [
    "Using the `DataFrame.dropna()` method, I removed the one row containing missing values. Following the same code as above, I can verify that `west_report` no longer contains any missing values."
   ]
  },
  {
   "cell_type": "code",
   "execution_count": 17,
   "metadata": {
    "scrolled": false
   },
   "outputs": [
    {
     "data": {
      "text/plain": [
       "crimes_percapita2012       0\n",
       "homicides_percapita2012    0\n",
       "crimes_percapita2013       0\n",
       "homicides_percapita2013    0\n",
       "crimes_percapita2014       0\n",
       "homicides_percapita2014    0\n",
       "crimes_percapita2015       0\n",
       "homicides_percapita2015    0\n",
       "dtype: int64"
      ]
     },
     "execution_count": 17,
     "metadata": {},
     "output_type": "execute_result"
    }
   ],
   "source": [
    "west_report = west_report.dropna()\n",
    "west_report.iloc[:,:].isnull().sum()"
   ]
  },
  {
   "cell_type": "markdown",
   "metadata": {},
   "source": [
    "Additionally, we can check the dimensions to verify that the one row containing missing values was removed. Indeed, I can see that I am now working with data for **19 cities**."
   ]
  },
  {
   "cell_type": "code",
   "execution_count": 18,
   "metadata": {
    "scrolled": true
   },
   "outputs": [
    {
     "name": "stdout",
     "output_type": "stream",
     "text": [
      "There are 19 rows and 8 columns in this table.\n"
     ]
    }
   ],
   "source": [
    "# Retrieve the dimensions\n",
    "print(\"There are \" + str(west_report.shape[0]) + \" rows and \" + str(west_report.shape[1]) + \" columns in this table.\")"
   ]
  },
  {
   "cell_type": "markdown",
   "metadata": {},
   "source": [
    "## One Column Selection  <a id='one-column-selection'></a>\n",
    "---\n",
    "\n"
   ]
  },
  {
   "cell_type": "markdown",
   "metadata": {},
   "source": [
    "I am interested in finding the top 10 cities with the *highest* crimes per capita from 2012. To do so, I sorted the `west_report` dataframe where the rows are in descending order based on the `crimes_percapita2012` column. \n",
    "\n",
    "Printing the first 10 rows delivers the cities with the *highest* crimes per capita from 2012."
   ]
  },
  {
   "cell_type": "code",
   "execution_count": 19,
   "metadata": {
    "scrolled": false
   },
   "outputs": [
    {
     "data": {
      "text/plain": [
       "agency_jurisdiction\n",
       "Oakland, CA           1993.31\n",
       "Las Vegas, NV          783.97\n",
       "Albuquerque, NM        749.71\n",
       "Sacramento, CA         738.63\n",
       "Tucson, AZ             724.32\n",
       "San Francisco, CA      704.20\n",
       "Salt Lake City, UT     676.49\n",
       "Phoenix, AZ            636.68\n",
       "Denver, CO             618.09\n",
       "Seattle, WA            603.32\n",
       "Name: crimes_percapita2012, dtype: float64"
      ]
     },
     "execution_count": 19,
     "metadata": {},
     "output_type": "execute_result"
    }
   ],
   "source": [
    "west_report.sort_values(\"crimes_percapita2012\", ascending=False).iloc[0:10,0]"
   ]
  },
  {
   "cell_type": "markdown",
   "metadata": {},
   "source": [
    "Since my investigation is focused on analyzing the growth in crimes (per capita), I am interested in whether the 10 cities found above maintained these spots in 2015 as well. Following the same steps above but using the `crimes_percapita2015` column, we can see that while there is a little shuffling, the same cities are indeed listed."
   ]
  },
  {
   "cell_type": "code",
   "execution_count": 21,
   "metadata": {
    "scrolled": true
   },
   "outputs": [
    {
     "data": {
      "text/plain": [
       "agency_jurisdiction\n",
       "Oakland, CA           1442.50\n",
       "Albuquerque, NM        965.84\n",
       "Las Vegas, NV          920.73\n",
       "Salt Lake City, UT     855.24\n",
       "San Francisco, CA      776.82\n",
       "Sacramento, CA         737.36\n",
       "Denver, CO             673.93\n",
       "Tucson, AZ             655.50\n",
       "Los Angeles, CA        634.82\n",
       "Seattle, WA            598.65\n",
       "Name: crimes_percapita2015, dtype: float64"
      ]
     },
     "execution_count": 21,
     "metadata": {},
     "output_type": "execute_result"
    }
   ],
   "source": [
    "west_report.sort_values(\"crimes_percapita2015\", ascending=False).iloc[0:10,6]"
   ]
  },
  {
   "cell_type": "markdown",
   "metadata": {},
   "source": [
    "## Sort  <a id='sort'></a>\n",
    "---\n",
    "\n"
   ]
  },
  {
   "cell_type": "markdown",
   "metadata": {},
   "source": [
    "Currently, the `west_report` dataframe consists of eight columns that document the crimes and homicides (per capita) that occured in Western cities for each year between 2012 and 2015. Part of my objective is to analyze the crime and homicide (per capita) growth between 2012 and 2015. To capture the growth, I created two more columns called `Crime_Percent_Change` and `Homicide_Percent_Change`."
   ]
  },
  {
   "cell_type": "code",
   "execution_count": 22,
   "metadata": {},
   "outputs": [],
   "source": [
    "west_report[\"Crime_Percent_Change\"] = ((west_report[\"crimes_percapita2015\"] - west_report[\"crimes_percapita2012\"]) / \n",
    "west_report[\"crimes_percapita2012\"])*100\n",
    "\n",
    "west_report[\"Homicide_Percent_Change\"] = ((west_report[\"homicides_percapita2015\"] - \n",
    "west_report[\"homicides_percapita2012\"]) / west_report[\"homicides_percapita2012\"])*100"
   ]
  },
  {
   "cell_type": "markdown",
   "metadata": {},
   "source": [
    "Additionally, I created another subset called `sort_by_crime` that contains data pertaining to the crime per capita where the rows are in descending order based the `Crime_Percent_Change` column."
   ]
  },
  {
   "cell_type": "code",
   "execution_count": 24,
   "metadata": {},
   "outputs": [],
   "source": [
    "sort_by_crime = west_report.iloc[:, [0,2,4,6,8]]\n",
    "sort_by_crime = sort_by_crime.sort_values(\"Crime_Percent_Change\", ascending = False)"
   ]
  },
  {
   "cell_type": "markdown",
   "metadata": {},
   "source": [
    "Printing the first five rows delivers the cities with the *highest* crime per capita growth from 2012 to 2015."
   ]
  },
  {
   "cell_type": "code",
   "execution_count": 25,
   "metadata": {},
   "outputs": [
    {
     "data": {
      "text/plain": [
       "                     crimes_percapita2012  crimes_percapita2013  \\\n",
       "agency_jurisdiction                                               \n",
       "Los Angeles, CA                    481.10                426.02   \n",
       "Albuquerque, NM                    749.71                774.86   \n",
       "Salt Lake City, UT                 676.49                781.62   \n",
       "Las Vegas, NV                      783.97                758.04   \n",
       "Aurora, CO                         415.49                416.03   \n",
       "\n",
       "                     crimes_percapita2014  crimes_percapita2015  \\\n",
       "agency_jurisdiction                                               \n",
       "Los Angeles, CA                    490.71                634.82   \n",
       "Albuquerque, NM                    882.85                965.84   \n",
       "Salt Lake City, UT                 754.80                855.24   \n",
       "Las Vegas, NV                      841.07                920.73   \n",
       "Aurora, CO                         407.47                460.81   \n",
       "\n",
       "                     Crime_Percent_Change  \n",
       "agency_jurisdiction                        \n",
       "Los Angeles, CA                 31.951777  \n",
       "Albuquerque, NM                 28.828480  \n",
       "Salt Lake City, UT              26.423155  \n",
       "Las Vegas, NV                   17.444545  \n",
       "Aurora, CO                      10.907603  "
      ]
     },
     "execution_count": 25,
     "metadata": {},
     "output_type": "execute_result"
    }
   ],
   "source": [
    "sort_by_crime.head(5)"
   ]
  },
  {
   "cell_type": "markdown",
   "metadata": {},
   "source": [
    "## Series  <a id='series'></a>\n",
    "---\n",
    "\n",
    "\n"
   ]
  },
  {
   "cell_type": "markdown",
   "metadata": {},
   "source": [
    "Lets take a look at what the `west_report` data frame looks like now."
   ]
  },
  {
   "cell_type": "code",
   "execution_count": 26,
   "metadata": {
    "scrolled": false
   },
   "outputs": [
    {
     "data": {
      "text/plain": [
       "                     crimes_percapita2012  homicides_percapita2012  \\\n",
       "agency_jurisdiction                                                  \n",
       "Albuquerque, NM                    749.71                     7.40   \n",
       "Aurora, CO                         415.49                     5.05   \n",
       "Denver, CO                         618.09                     6.20   \n",
       "\n",
       "                     crimes_percapita2013  homicides_percapita2013  \\\n",
       "agency_jurisdiction                                                  \n",
       "Albuquerque, NM                    774.86                     6.63   \n",
       "Aurora, CO                         416.03                     5.82   \n",
       "Denver, CO                         630.68                     6.32   \n",
       "\n",
       "                     crimes_percapita2014  homicides_percapita2014  \\\n",
       "agency_jurisdiction                                                  \n",
       "Albuquerque, NM                    882.85                     5.37   \n",
       "Aurora, CO                         407.47                     2.56   \n",
       "Denver, CO                         601.49                     4.66   \n",
       "\n",
       "                     crimes_percapita2015  homicides_percapita2015  \\\n",
       "agency_jurisdiction                                                  \n",
       "Albuquerque, NM                    965.84                     7.68   \n",
       "Aurora, CO                         460.81                     6.66   \n",
       "Denver, CO                         673.93                     7.77   \n",
       "\n",
       "                     Crime_Percent_Change  Homicide_Percent_Change  \n",
       "agency_jurisdiction                                                 \n",
       "Albuquerque, NM                 28.828480                 3.783784  \n",
       "Aurora, CO                      10.907603                31.881188  \n",
       "Denver, CO                       9.034283                25.322581  "
      ]
     },
     "execution_count": 26,
     "metadata": {},
     "output_type": "execute_result"
    }
   ],
   "source": [
    "west_report.head(3)"
   ]
  },
  {
   "cell_type": "markdown",
   "metadata": {},
   "source": [
    "Since I have already captured the crime per capita growth, I now want to capture the *homicide per capita* growth. To do so, I subsetted the `west_report` dataframe into another dataframe called `homicide_report` that contains data pertaining to the homicides per capita."
   ]
  },
  {
   "cell_type": "code",
   "execution_count": 27,
   "metadata": {},
   "outputs": [],
   "source": [
    "homicides_report = west_report.iloc[:, [1,3,5,7,9]]"
   ]
  },
  {
   "cell_type": "markdown",
   "metadata": {},
   "source": [
    "Lets print the first 5 rows to verify."
   ]
  },
  {
   "cell_type": "code",
   "execution_count": 29,
   "metadata": {
    "scrolled": false
   },
   "outputs": [
    {
     "data": {
      "text/plain": [
       "                     homicides_percapita2012  homicides_percapita2013  \\\n",
       "agency_jurisdiction                                                     \n",
       "Albuquerque, NM                         7.40                     6.63   \n",
       "Aurora, CO                              5.05                     5.82   \n",
       "Denver, CO                              6.20                     6.32   \n",
       "Fresno, CA                             10.08                     7.86   \n",
       "Honolulu, HI                            1.13                     1.83   \n",
       "\n",
       "                     homicides_percapita2014  homicides_percapita2015  \\\n",
       "agency_jurisdiction                                                     \n",
       "Albuquerque, NM                         5.37                     7.68   \n",
       "Aurora, CO                              2.56                     6.66   \n",
       "Denver, CO                              4.66                     7.77   \n",
       "Fresno, CA                              9.16                     7.49   \n",
       "Honolulu, HI                            1.91                     1.50   \n",
       "\n",
       "                     Homicide_Percent_Change  \n",
       "agency_jurisdiction                           \n",
       "Albuquerque, NM                     3.783784  \n",
       "Aurora, CO                         31.881188  \n",
       "Denver, CO                         25.322581  \n",
       "Fresno, CA                        -25.694444  \n",
       "Honolulu, HI                       32.743363  "
      ]
     },
     "execution_count": 29,
     "metadata": {},
     "output_type": "execute_result"
    }
   ],
   "source": [
    "homicides_report.head(5)"
   ]
  },
  {
   "cell_type": "markdown",
   "metadata": {},
   "source": [
    "Using the `DataFrame.describe()` method, I retrieved a statistical summary of each of the 5 columns. From here, I can see that the average homicides per capita portrayed a steady decrease from 2012 to 2014 but exhibited a sudden jump from 2014 to 2015. Additionally, the median of `Homicide_Percent_Change` is near 0, indicating that half of the cities saw a decrease in homicides from 2012 to 2015 while the other half saw an increase from 2012 to 2015."
   ]
  },
  {
   "cell_type": "code",
   "execution_count": 31,
   "metadata": {
    "scrolled": false
   },
   "outputs": [
    {
     "data": {
      "text/plain": [
       "       homicides_percapita2012  homicides_percapita2013  \\\n",
       "count                19.000000                19.000000   \n",
       "mean                  7.338421                 6.598421   \n",
       "std                   6.323101                 4.262017   \n",
       "min                   1.130000                 1.830000   \n",
       "25%                   4.385000                 4.325000   \n",
       "50%                   6.810000                 6.460000   \n",
       "75%                   7.830000                 7.175000   \n",
       "max                  31.790000                22.280000   \n",
       "\n",
       "       homicides_percapita2014  homicides_percapita2015  \\\n",
       "count                19.000000                19.000000   \n",
       "mean                  5.796316                 6.705789   \n",
       "std                   3.892496                 3.985697   \n",
       "min                   1.910000                 1.500000   \n",
       "25%                   3.405000                 3.785000   \n",
       "50%                   5.290000                 7.120000   \n",
       "75%                   6.650000                 7.725000   \n",
       "max                  19.510000                20.260000   \n",
       "\n",
       "       Homicide_Percent_Change  \n",
       "count                19.000000  \n",
       "mean                  0.437011  \n",
       "std                  27.292539  \n",
       "min                 -36.876356  \n",
       "25%                 -25.240385  \n",
       "50%                   0.240385  \n",
       "75%                  24.232118  \n",
       "max                  58.171206  "
      ]
     },
     "execution_count": 31,
     "metadata": {},
     "output_type": "execute_result"
    }
   ],
   "source": [
    "homicides_report.describe()"
   ]
  },
  {
   "cell_type": "markdown",
   "metadata": {},
   "source": [
    "Similar to crimes per capita, I am interested in the cities with the *highest* homicides per capita growth from 2012 to 2015. To find these, I created another subset called `sort_by_homicide` where the rows are in descending order based the `Homicide_Percent_Change` column."
   ]
  },
  {
   "cell_type": "code",
   "execution_count": 32,
   "metadata": {},
   "outputs": [],
   "source": [
    "sort_by_homicide = homicides_report.sort_values(\"Homicide_Percent_Change\", ascending = False)"
   ]
  },
  {
   "cell_type": "markdown",
   "metadata": {},
   "source": [
    "Printing the first five rows delivers the cities with the *highest* homicide per capita growth from 2012 to 2015."
   ]
  },
  {
   "cell_type": "code",
   "execution_count": 33,
   "metadata": {},
   "outputs": [
    {
     "data": {
      "text/plain": [
       "                        homicides_percapita2012  homicides_percapita2013  \\\n",
       "agency_jurisdiction                                                        \n",
       "Las Vegas, NV                              5.14                     6.46   \n",
       "Honolulu, HI                               1.13                     1.83   \n",
       "Aurora, CO                                 5.05                     5.82   \n",
       "Los Angeles County, CA                     6.98                     6.77   \n",
       "Denver, CO                                 6.20                     6.32   \n",
       "\n",
       "                        homicides_percapita2014  homicides_percapita2015  \\\n",
       "agency_jurisdiction                                                        \n",
       "Las Vegas, NV                              7.97                     8.13   \n",
       "Honolulu, HI                               1.91                     1.50   \n",
       "Aurora, CO                                 2.56                     6.66   \n",
       "Los Angeles County, CA                     6.39                     8.81   \n",
       "Denver, CO                                 4.66                     7.77   \n",
       "\n",
       "                        Homicide_Percent_Change  \n",
       "agency_jurisdiction                              \n",
       "Las Vegas, NV                         58.171206  \n",
       "Honolulu, HI                          32.743363  \n",
       "Aurora, CO                            31.881188  \n",
       "Los Angeles County, CA                26.217765  \n",
       "Denver, CO                            25.322581  "
      ]
     },
     "execution_count": 33,
     "metadata": {},
     "output_type": "execute_result"
    }
   ],
   "source": [
    "sort_by_homicide.head(5)"
   ]
  },
  {
   "cell_type": "markdown",
   "metadata": {},
   "source": [
    "## Plot  <a id='plot'></a>\n",
    "---\n",
    "\n",
    "\n",
    "\n"
   ]
  },
  {
   "cell_type": "markdown",
   "metadata": {},
   "source": [
    "Though I can observe the crime and homicide (per capita) growth from their corresponding columns, a ***grouped bar plot*** can deliver a better visualization. To plot the data, I created a function called `bar_plot()` that takes in two arguments — the first being a specified dataframe and the second being a specified attribute. Running the function will plot the 2012 and 2015 records for the first five cities listed in the dataframe."
   ]
  },
  {
   "cell_type": "code",
   "execution_count": 34,
   "metadata": {},
   "outputs": [],
   "source": [
    "def bar_plot(df, attribute):\n",
    "    x = df.head(5)\n",
    "    \n",
    "    figure(num=None, figsize=(16, 7))\n",
    "    \n",
    "    bar1 = x.iloc[:,0]\n",
    "    bar2 = x.iloc[:,3]\n",
    "    \n",
    "    label = [x.index[0], x.index[1], x.index[2], x.index[3], x.index[4]]\n",
    "    \n",
    "    pos1 = np.arange(len(bar1))\n",
    "    pos2 = pos1 + 0.2\n",
    "    \n",
    "    plt.bar(pos1, bar1, width = 0.25, color = \"skyblue\", label = \"2012\")\n",
    "    plt.bar(pos2, bar2, width = 0.25, color = \"navy\", label = \"2015\")\n",
    "    \n",
    "    plt.xticks(pos1, label)\n",
    "    plt.xlabel(\"County\")\n",
    "    plt.ylabel(str(attribute) + \" per Capita\")\n",
    "    plt.title(\"Top \" + str(attribute) + \" Jumps in Western Region\" )\n",
    "    plt.legend()\n",
    "    plt.show()"
   ]
  },
  {
   "cell_type": "markdown",
   "metadata": {},
   "source": [
    "The code below runs the `bar_plot()` function using the `sort_by_crime` dataframe and the crimes (per capita) attribute. Now we can visually see the cities that had the highest crime (per capita) growth from 2012 to 2015."
   ]
  },
  {
   "cell_type": "code",
   "execution_count": 35,
   "metadata": {},
   "outputs": [
    {
     "data": {
      "image/png": "[encoded data removed]",
      "text/plain": [
       "<Figure size 1152x504 with 1 Axes>"
      ]
     },
     "metadata": {
      "needs_background": "light"
     },
     "output_type": "display_data"
    }
   ],
   "source": [
    "bar_plot(sort_by_crime, \"Crime\")"
   ]
  },
  {
   "cell_type": "markdown",
   "metadata": {},
   "source": [
    "The code below runs the `bar_plot()` function using the `sort_by_homicide` dataframe and the homicides (per capita) attribute. Now we can visually see the the cities that had the highest homicide (per capita) growth from 2012 to 2015."
   ]
  },
  {
   "cell_type": "code",
   "execution_count": 36,
   "metadata": {},
   "outputs": [
    {
     "data": {
      "image/png": "[encoded data removed]",
      "text/plain": [
       "<Figure size 1152x504 with 1 Axes>"
      ]
     },
     "metadata": {
      "needs_background": "light"
     },
     "output_type": "display_data"
    }
   ],
   "source": [
    "bar_plot(sort_by_homicide, \"Homicide\")"
   ]
  },
  {
   "cell_type": "markdown",
   "metadata": {},
   "source": [
    "## Summary <a id='summary'></a>\n",
    "---\n",
    "In observing the growth in crime across different locations and times, I had to aggregate my data in such a manner that would allow me to do so. I decided to narrow my study so that I could identify the cities within the Western Region of the United States that exhibited the highest growth in <ins>crimes and homicides per capita</ins> from 2012 to 2015. In doing so I created a subsetted dataframe, `west_report`, that contains the yearly crime and homicide (per capita) report for every Western city between the years 2012 and 2015. Additionally, I created two more columns called that indicate the crime and homicide (per capita) growth between 2012 and 2015. Now, with this subset, I was able to answer all of my questions of investigation.\n",
    "\n",
    "**What are the top 10 cities with the highest crimes per capita from 2012 and 2015? How do they compare?**  \n",
    "To find the top 10 cities with the *highest crimes per capita* from 2012, I sorted the `west_report` dataframe where the rows are in descending order based on the `crimes_percapita2012` column. To find the top 10 cities with the *highest crimes per capita* from 2015, I followed the same steps but with the `crimes_percapita2015` column. Printing the first 10 rows of each, I learned while there is a little shuffling, the same 10 cities were found in both listings.\n",
    "\n",
    "**What are the top 5 cities that exhibited the highest crimes per capita growth?**  \n",
    "To capture the *crime per capita* growth, I created another subset from `west_report` called `sort_by_crime` that contains data pertaining to the crime per capita where the rows are in descending order based on *crime per capita* growth. Printing the first five rows, I can see that the top five cities that exhibited the highest *crime per capita* growth are *Los Angeles, CA, Alburqueque, NM, Salt Lake City, UT, Las Vegas, NV, and Aurora, CO,*\n",
    "\n",
    "**What are the top 5 cities that exhibited the highest homicides per capita growth?**   \n",
    "To capture the *homcide per capita* growth, I followed a similar procedure as above. I created another subset from `west_report` called `sort_by_homicide` that contains data pertaining to the crime per capita where the rows are in descending order based on *homicide per capita* growth. Printing the first five rows, I can see that the top five cities that exhibited the highest *homicide per capita* growth are *Las Vegas, NV, Honolulu, HI, Aurora, CO, Los Angeles County, CA, and Denver CO.*"
   ]
  },
  {
   "cell_type": "markdown",
   "metadata": {},
   "source": [
    "## Recommendations <a id='recommendations'></a>\n",
    "---\n",
    "\n",
    "When deploying police enforcement, there are many factors law enforcement agencies must consider so that they can optimize the allocation of the available resources. For instance, it would be to the benefit of executive officers to know which cities exhibited the highest growth in crime between a specified period. Knowing this information allows officers to respond efficiently by identifying targeted and innovative solutions.\n",
    "\n",
    "Based on my findings, I recommend that the executive officers of the cities that exhibited the highest crime growth (per capita) from 2012 to 2015 to take a second look at their resource budget and determine whether they can allocate more funding to targeted services that could reduce the number of crimes committed in their city. Additionally, they may want to focus on the conditions that drive people into criminal and unlawful behavior. This may require an examination of the systemic and societal conditions within these cities.\n",
    "\n",
    "While the recommendations from above can be applied to any type of crime, reducing a specific type of crime may require a more targeted solution. Take the cities that exhibited the highest homicide growth (per capita) from 2012 to 2015 for instance. If the executive officers of these cities are looking to reduce homicides, they may want to explore the idea of programmes that target the population group that is most likely to commit this type of crime. Additionally, they may want to identify and diagnose the risk factors that drive this population into criminal activity. A treatment plan, complemented with the support of the family and community, could deliver significant results."
   ]
  }
 ],
 "metadata": {
  "kernelspec": {
   "display_name": "Python 3",
   "language": "python",
   "name": "python3"
  },
  "language_info": {
   "codemirror_mode": {
    "name": "ipython",
    "version": 3
   },
   "file_extension": ".py",
   "mimetype": "text/x-python",
   "name": "python",
   "nbconvert_exporter": "python",
   "pygments_lexer": "ipython3",
   "version": "3.8.8"
  }
 },
 "nbformat": 4,
 "nbformat_minor": 4
}
